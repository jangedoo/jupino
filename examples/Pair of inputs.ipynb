{
 "cells": [
  {
   "cell_type": "markdown",
   "id": "6fba198e",
   "metadata": {},
   "source": [
    "This demo shows how we can annotate paired datasets. This can be used to create dataset where you want to find if the two or more inputs are same. Can be used to train Siamese networks"
   ]
  },
  {
   "cell_type": "code",
   "execution_count": 14,
   "id": "447c1fa3",
   "metadata": {},
   "outputs": [
    {
     "name": "stdout",
     "output_type": "stream",
     "text": [
      "The autoreload extension is already loaded. To reload it, use:\n",
      "  %reload_ext autoreload\n"
     ]
    }
   ],
   "source": [
    "%load_ext autoreload\n",
    "%autoreload 2"
   ]
  },
  {
   "cell_type": "markdown",
   "id": "101a6545",
   "metadata": {},
   "source": [
    "# Text inputs"
   ]
  },
  {
   "cell_type": "code",
   "execution_count": 38,
   "id": "1fcd229c",
   "metadata": {},
   "outputs": [
    {
     "data": {
      "application/vnd.jupyter.widget-view+json": {
       "model_id": "b27c112943cf4bf29490246a4ffd7767",
       "version_major": 2,
       "version_minor": 0
      },
      "text/plain": [
       "VBox(children=(Output(), Output(), Output()))"
      ]
     },
     "metadata": {},
     "output_type": "display_data"
    }
   ],
   "source": [
    "import jupino as jp\n",
    "\n",
    "articles = [\n",
    "    (\"Football is popular\", \"World cup finals is tomorrow\"),\n",
    "    (\"Playstation 6 is soon to be released\", \"10 best places to travel\")\n",
    "]\n",
    "labels = [\"Similar\", \"Not similar\"]\n",
    "\n",
    "widget = jp.annotate(examples=articles, labels=labels, \n",
    "            x_widget_factory=jp.widgets.x.multiple(factories=jp.widgets.x.html(), vertical_layout=True),\n",
    "            labels_widget_factory=jp.widgets.labels.radio_button()\n",
    "            )\n",
    "widget"
   ]
  },
  {
   "cell_type": "code",
   "execution_count": 39,
   "id": "0b80e153",
   "metadata": {},
   "outputs": [
    {
     "data": {
      "text/plain": [
       "[Example(x=('Football is popular', 'World cup finals is tomorrow'), y='Similar'),\n",
       " Example(x=('Playstation 6 is soon to be released', '10 best places to travel'), y='Not similar')]"
      ]
     },
     "execution_count": 39,
     "metadata": {},
     "output_type": "execute_result"
    }
   ],
   "source": [
    "widget.session.examples"
   ]
  },
  {
   "cell_type": "markdown",
   "id": "aae5c962",
   "metadata": {},
   "source": [
    "# Image inputs"
   ]
  },
  {
   "cell_type": "code",
   "execution_count": 35,
   "id": "4d1beefa",
   "metadata": {},
   "outputs": [
    {
     "data": {
      "application/vnd.jupyter.widget-view+json": {
       "model_id": "02f7e3c898e34821912efef87f69a84e",
       "version_major": 2,
       "version_minor": 0
      },
      "text/plain": [
       "VBox(children=(Output(), Output(), Output()))"
      ]
     },
     "metadata": {},
     "output_type": "display_data"
    }
   ],
   "source": [
    "images = [\n",
    "    (\"./images/01picsum.jpg\", \"./images/02picsum.jpg\"),\n",
    "    (\"./images/03picsum.jpg\", \"./images/04picsum.jpg\"),\n",
    "]\n",
    "labels = [\"Similar\", \"Not Similar\"]\n",
    "widget = jp.annotate(examples=images, labels=labels, \n",
    "            x_widget_factory=jp.widgets.x.multiple(factories=jp.widgets.x.image(), vertical_layout=False),\n",
    "            labels_widget_factory=jp.widgets.labels.radio_button()\n",
    "            )\n",
    "widget"
   ]
  },
  {
   "cell_type": "code",
   "execution_count": 37,
   "id": "f235ad19",
   "metadata": {},
   "outputs": [
    {
     "data": {
      "text/plain": [
       "[Example(x=('./images/01picsum.jpg', './images/02picsum.jpg'), y='Similar'),\n",
       " Example(x=('./images/03picsum.jpg', './images/04picsum.jpg'), y='Not Similar')]"
      ]
     },
     "execution_count": 37,
     "metadata": {},
     "output_type": "execute_result"
    }
   ],
   "source": [
    "widget.session.examples"
   ]
  },
  {
   "cell_type": "markdown",
   "id": "69b8c69b",
   "metadata": {},
   "source": [
    "# Mixed inputs\n",
    "When there are mixed inputs, we want to display them differently. We can pass a list of factories in `jp.widgets.x.multiple` which will be used to render the inputs."
   ]
  },
  {
   "cell_type": "code",
   "execution_count": 42,
   "id": "5791ac09",
   "metadata": {},
   "outputs": [
    {
     "data": {
      "application/vnd.jupyter.widget-view+json": {
       "model_id": "bcd372ea4acb47ebba7dfa2639b30b72",
       "version_major": 2,
       "version_minor": 0
      },
      "text/plain": [
       "VBox(children=(Output(), Output(), Output()))"
      ]
     },
     "metadata": {},
     "output_type": "display_data"
    }
   ],
   "source": [
    "images = [\n",
    "    (\"./images/01picsum.jpg\", \"Birds and ocean\"),\n",
    "    (\"./images/03picsum.jpg\", \"planets and space\"),\n",
    "]\n",
    "labels = [\"Caption matches\", \"Caption does not match\"]\n",
    "widget = jp.annotate(examples=images, labels=labels, \n",
    "            x_widget_factory=jp.widgets.x.multiple(factories=[jp.widgets.x.image(), jp.widgets.x.html()], vertical_layout=True),\n",
    "            labels_widget_factory=jp.widgets.labels.radio_button()\n",
    "            )\n",
    "widget"
   ]
  },
  {
   "cell_type": "code",
   "execution_count": 43,
   "id": "6abe553f",
   "metadata": {},
   "outputs": [
    {
     "data": {
      "text/plain": [
       "[Example(x=('./images/01picsum.jpg', 'Birds and ocean'), y='Caption matches'),\n",
       " Example(x=('./images/03picsum.jpg', 'planets and space'), y='Caption does not match')]"
      ]
     },
     "execution_count": 43,
     "metadata": {},
     "output_type": "execute_result"
    }
   ],
   "source": [
    "widget.session.examples"
   ]
  },
  {
   "cell_type": "markdown",
   "id": "2e466989",
   "metadata": {},
   "source": [
    "# Using custom factory\n",
    "We can also create a custom factory by either sublcassing `jp.ExampleXWidgetFactory` and overriding the `create` method or we can also write a function that takes in an example and returns a widget."
   ]
  },
  {
   "cell_type": "code",
   "execution_count": 48,
   "id": "21c12eaf",
   "metadata": {},
   "outputs": [
    {
     "data": {
      "application/vnd.jupyter.widget-view+json": {
       "model_id": "d95a6f3f25924ef3a5b8f47d8da1e362",
       "version_major": 2,
       "version_minor": 0
      },
      "text/plain": [
       "VBox(children=(Output(), Output(), Output()))"
      ]
     },
     "metadata": {},
     "output_type": "display_data"
    }
   ],
   "source": [
    "import ipywidgets as w\n",
    "\n",
    "@jp.widgets.x.x_widget\n",
    "def image_text_pair(example: jp.Example):\n",
    "    # we know that our input is a tuple containing file path to image and a text\n",
    "    img_path, text = example.x\n",
    "    \n",
    "    image = open(img_path, \"rb\").read()\n",
    "    \n",
    "    return w.VBox(children=[\n",
    "        w.Image(value=image, width=250, height=250),\n",
    "        w.HTML(value=f\"<strong>{text}</strong>\")\n",
    "    ])\n",
    "\n",
    "images = [\n",
    "    (\"./images/01picsum.jpg\", \"Birds and ocean\"),\n",
    "    (\"./images/03picsum.jpg\", \"planets and space\"),\n",
    "]\n",
    "labels = [\"Caption matches\", \"Caption does not match\"]\n",
    "widget = jp.annotate(examples=images, labels=labels, \n",
    "            x_widget_factory=image_text_pair(),\n",
    "            labels_widget_factory=jp.widgets.labels.radio_button()\n",
    "            )\n",
    "widget"
   ]
  }
 ],
 "metadata": {
  "kernelspec": {
   "display_name": "Python 3 (ipykernel)",
   "language": "python",
   "name": "python3"
  },
  "language_info": {
   "codemirror_mode": {
    "name": "ipython",
    "version": 3
   },
   "file_extension": ".py",
   "mimetype": "text/x-python",
   "name": "python",
   "nbconvert_exporter": "python",
   "pygments_lexer": "ipython3",
   "version": "3.8.6"
  }
 },
 "nbformat": 4,
 "nbformat_minor": 5
}
