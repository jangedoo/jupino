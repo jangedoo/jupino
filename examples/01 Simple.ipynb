{
 "cells": [
  {
   "cell_type": "code",
   "execution_count": 1,
   "id": "33374655",
   "metadata": {},
   "outputs": [],
   "source": [
    "%load_ext autoreload\n",
    "%autoreload 2"
   ]
  },
  {
   "cell_type": "code",
   "execution_count": 2,
   "id": "94bd18b9",
   "metadata": {},
   "outputs": [],
   "source": [
    "import jupino as jp\n",
    "import ipywidgets as w\n",
    "from IPython.display import display"
   ]
  },
  {
   "cell_type": "code",
   "execution_count": 3,
   "id": "529e0b70",
   "metadata": {},
   "outputs": [
    {
     "name": "stdout",
     "output_type": "stream",
     "text": [
      "Total articles 2225, unique categories 5\n"
     ]
    }
   ],
   "source": [
    "import csv, urllib.request\n",
    "resp = urllib.request.urlopen(\"https://github.com/jangedoo/jange/blob/master/dataset/bbc.csv?raw=true\").read()\n",
    "articles, categories = [], set()\n",
    "for i, row in enumerate(csv.DictReader(resp.decode('utf-8').splitlines())):\n",
    "    articles.append(row['news'])\n",
    "    categories.add(row['type'])\n",
    "\n",
    "print(f\"Total articles {len(articles)}, unique categories {len(categories)}\")"
   ]
  },
  {
   "cell_type": "markdown",
   "id": "e775fa3d",
   "metadata": {},
   "source": [
    "## Quick Start with default config"
   ]
  },
  {
   "cell_type": "code",
   "execution_count": 4,
   "id": "143f31f7",
   "metadata": {},
   "outputs": [
    {
     "data": {
      "application/vnd.jupyter.widget-view+json": {
       "model_id": "160b0079c5244813b1c9509c92b25c5d",
       "version_major": 2,
       "version_minor": 0
      },
      "text/plain": [
       "VBox(children=(Output(), Output(), Output()))"
      ]
     },
     "metadata": {},
     "output_type": "display_data"
    }
   ],
   "source": [
    "anno_widget = jp.annotate(examples=articles, labels=categories)\n",
    "anno_widget"
   ]
  },
  {
   "cell_type": "code",
   "execution_count": 5,
   "id": "6775ebe6",
   "metadata": {},
   "outputs": [
    {
     "data": {
      "text/plain": [
       "('Total annotated examples', 2)"
      ]
     },
     "execution_count": 5,
     "metadata": {},
     "output_type": "execute_result"
    }
   ],
   "source": [
    "# how to fetch annotated examples\n",
    "\"Total annotated examples\", len(anno_widget.session.annotated_examples)"
   ]
  },
  {
   "cell_type": "markdown",
   "id": "d3ae0b94",
   "metadata": {},
   "source": [
    "## Choose different label widget\n",
    "We can override the widget factories. Let's override the labels to be shown as radio buttons. There are few label widget factories included in `jupino` including `jupino.widgets.toggle_buttons`, `jupino.widgets.select_multiple`, `jupino.widgets.dropdown`, `jupino.widgets.radio_button`.\n",
    "\n",
    "You can also implement your own label widget factory by subclassing `jupino.interface.ExampleLabelsWidgetFactory` and overriding the `create` method."
   ]
  },
  {
   "cell_type": "code",
   "execution_count": null,
   "id": "a650e557",
   "metadata": {},
   "outputs": [],
   "source": [
    "anno_widget = jw.annotate(examples=articles, labels=categories, labels_widget_factory=jw.radio_button())\n",
    "display(anno_widget)"
   ]
  },
  {
   "cell_type": "markdown",
   "id": "2fb92161",
   "metadata": {},
   "source": [
    "# Choose different \"x\" widget\n",
    "We can also override how the \"x\" or input is displayed. For this we need to subclass `jupino.interface.DefaultExampleXWidgetFactory` and overriding `create` method."
   ]
  },
  {
   "cell_type": "code",
   "execution_count": null,
   "id": "e589023f",
   "metadata": {},
   "outputs": [],
   "source": [
    "class BoldArticleWidgetFactory(jw.ExampleXWidgetFactory):\n",
    "    def create(self, example: jw.Example):\n",
    "        html = f\"\"\"\n",
    "        <strong>{example.x}</strong>\n",
    "        \"\"\"\n",
    "        return w.HTML(value=html)\n",
    "\n",
    "anno_widget = jw.annotate(examples=articles, labels=categories, x_widget_factory=BoldArticleWidgetFactory())\n",
    "display(anno_widget)"
   ]
  }
 ],
 "metadata": {
  "kernelspec": {
   "display_name": "Python 3 (ipykernel)",
   "language": "python",
   "name": "python3"
  },
  "language_info": {
   "codemirror_mode": {
    "name": "ipython",
    "version": 3
   },
   "file_extension": ".py",
   "mimetype": "text/x-python",
   "name": "python",
   "nbconvert_exporter": "python",
   "pygments_lexer": "ipython3",
   "version": "3.8.6"
  }
 },
 "nbformat": 4,
 "nbformat_minor": 5
}
