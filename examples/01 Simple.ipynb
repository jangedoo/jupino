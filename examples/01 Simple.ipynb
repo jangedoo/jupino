{
 "cells": [
  {
   "cell_type": "code",
   "execution_count": 1,
   "id": "33374655",
   "metadata": {},
   "outputs": [],
   "source": [
    "%load_ext autoreload\n",
    "%autoreload 2"
   ]
  },
  {
   "cell_type": "code",
   "execution_count": 2,
   "id": "94bd18b9",
   "metadata": {},
   "outputs": [],
   "source": [
    "from jupino.widgets import AnnotationSessionWidget, AnnotationSession, Example, annotate"
   ]
  },
  {
   "cell_type": "code",
   "execution_count": null,
   "id": "326f3703",
   "metadata": {},
   "outputs": [],
   "source": [
    "examples = [Example(x=f\"this is text {i}\") for i in range(5)]\n",
    "labels = lambda e: [f\"category 1 {e.x}\", \"laptops\", \"tv\"]\n",
    "\n",
    "sess = AnnotationSession(examples=examples, labels=labels)\n",
    "sess_widget = AnnotationSessionWidget(session=sess)\n",
    "sess_widget.display()"
   ]
  },
  {
   "cell_type": "code",
   "execution_count": null,
   "id": "cd4d1210",
   "metadata": {},
   "outputs": [],
   "source": [
    "sess.examples"
   ]
  },
  {
   "cell_type": "code",
   "execution_count": null,
   "id": "1a118efd",
   "metadata": {},
   "outputs": [],
   "source": [
    "def annotate(examples, labels, x_widget_factory=None, labels_widget_factory=None, example_widget_factory=None, controls_widget_factory=None, summary_widget_factory=None):\n",
    "    if not isinstance(examples, list):\n",
    "        examples = list(examples)\n",
    "        \n",
    "    if len(examples) == 0:\n",
    "        raise ValueError(\"There must be atleast one item in examples\")\n",
    "        \n",
    "    if not isinstance(examples[0], Example):\n",
    "        examples = [Example(x=e) for e in examples]\n",
    "        \n",
    "    sess = AnnotationSession(examples=examples, labels=labels)\n",
    "    sess_widget = AnnotationSessionWidget(session=sess)\n",
    "    return sess_widget\n",
    "    "
   ]
  },
  {
   "cell_type": "code",
   "execution_count": 17,
   "id": "387a6ba8",
   "metadata": {},
   "outputs": [
    {
     "data": {
      "application/vnd.jupyter.widget-view+json": {
       "model_id": "3e1f0de0dddb4958981d8ff1d3ad7aea",
       "version_major": 2,
       "version_minor": 0
      },
      "text/plain": [
       "VBox(children=(Output(), Output(), Output()))"
      ]
     },
     "metadata": {},
     "output_type": "display_data"
    }
   ],
   "source": [
    "import jupino.widgets as jw\n",
    "import ipywidgets as w\n",
    "\n",
    "class RadioLabelsWidgetFactory(jw.ExampleLabelsWidgetFactory):\n",
    "    def __init__(self, **kwargs):\n",
    "        self.kwargs = kwargs\n",
    "        \n",
    "    def create(self, example: jw.Example, labels):\n",
    "        radio = w.RadioButtons(options=labels, value=example.y, **self.kwargs)\n",
    "        value_getter = lambda: radio.value\n",
    "        return radio, value_getter\n",
    "\n",
    "examples = [i for i in range(5)]\n",
    "labels = [\"laptop\", \"tv\", \"phone\"]\n",
    "widget = annotate(examples=examples, labels=labels, labels_widget_factory=RadioLabelsWidgetFactory())\n",
    "widget"
   ]
  },
  {
   "cell_type": "code",
   "execution_count": null,
   "id": "7ff443ce",
   "metadata": {},
   "outputs": [],
   "source": [
    "widget.session.current_example_idx"
   ]
  },
  {
   "cell_type": "code",
   "execution_count": null,
   "id": "6775ebe6",
   "metadata": {},
   "outputs": [],
   "source": []
  },
  {
   "cell_type": "code",
   "execution_count": null,
   "id": "d3ae0b94",
   "metadata": {},
   "outputs": [],
   "source": []
  },
  {
   "cell_type": "code",
   "execution_count": null,
   "id": "a650e557",
   "metadata": {},
   "outputs": [],
   "source": []
  },
  {
   "cell_type": "code",
   "execution_count": null,
   "id": "2fb92161",
   "metadata": {},
   "outputs": [],
   "source": []
  },
  {
   "cell_type": "code",
   "execution_count": null,
   "id": "e589023f",
   "metadata": {},
   "outputs": [],
   "source": []
  }
 ],
 "metadata": {
  "kernelspec": {
   "display_name": "Python 3 (ipykernel)",
   "language": "python",
   "name": "python3"
  },
  "language_info": {
   "codemirror_mode": {
    "name": "ipython",
    "version": 3
   },
   "file_extension": ".py",
   "mimetype": "text/x-python",
   "name": "python",
   "nbconvert_exporter": "python",
   "pygments_lexer": "ipython3",
   "version": "3.8.6"
  }
 },
 "nbformat": 4,
 "nbformat_minor": 5
}
