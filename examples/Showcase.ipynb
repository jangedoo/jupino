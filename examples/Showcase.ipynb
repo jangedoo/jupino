{
 "cells": [
  {
   "cell_type": "code",
   "execution_count": 1,
   "id": "f7f73ef1",
   "metadata": {},
   "outputs": [],
   "source": [
    "%load_ext autoreload\n",
    "%autoreload 2"
   ]
  },
  {
   "cell_type": "code",
   "execution_count": 2,
   "id": "9b789c8a",
   "metadata": {},
   "outputs": [],
   "source": [
    "import jupino as jp"
   ]
  },
  {
   "cell_type": "markdown",
   "id": "0a6ebe4e",
   "metadata": {},
   "source": [
    "# Binary classification"
   ]
  },
  {
   "cell_type": "markdown",
   "id": "8756ee36",
   "metadata": {},
   "source": [
    "## Text classification"
   ]
  },
  {
   "cell_type": "code",
   "execution_count": 15,
   "id": "639f7c2c",
   "metadata": {},
   "outputs": [
    {
     "data": {
      "application/vnd.jupyter.widget-view+json": {
       "model_id": "1e3bd74d69144784b97684b2927e0176",
       "version_major": 2,
       "version_minor": 0
      },
      "text/plain": [
       "VBox(children=(Output(), Output(), Output()))"
      ]
     },
     "metadata": {},
     "output_type": "display_data"
    }
   ],
   "source": [
    "texts = [\n",
    "    \"this is article about politics\",\n",
    "    \"this is not about politics\"\n",
    "]\n",
    "labels = [\"politics\", \"not politics\"]\n",
    "widget = jp.annotate(examples=texts, labels=labels)\n",
    "widget"
   ]
  },
  {
   "cell_type": "code",
   "execution_count": 16,
   "id": "4ad86674",
   "metadata": {},
   "outputs": [
    {
     "data": {
      "text/plain": [
       "[Example(x='this is article about politics', y='politics'),\n",
       " Example(x='this is not about politics', y='not politics')]"
      ]
     },
     "execution_count": 16,
     "metadata": {},
     "output_type": "execute_result"
    }
   ],
   "source": [
    "widget.session.examples"
   ]
  },
  {
   "cell_type": "markdown",
   "id": "5dc09612",
   "metadata": {},
   "source": [
    "## Image classification"
   ]
  },
  {
   "cell_type": "code",
   "execution_count": 17,
   "id": "1a53d798",
   "metadata": {},
   "outputs": [
    {
     "data": {
      "application/vnd.jupyter.widget-view+json": {
       "model_id": "e28b8eb1219c4b43b15347128ec6c652",
       "version_major": 2,
       "version_minor": 0
      },
      "text/plain": [
       "VBox(children=(Output(), Output(), Output()))"
      ]
     },
     "metadata": {},
     "output_type": "display_data"
    }
   ],
   "source": [
    "images = [\n",
    "    \"https://picsum.photos/id/1/200/300\",\n",
    "    \"https://picsum.photos/id/2/200/300\",\n",
    "    \"https://picsum.photos/id/3/200/300\",\n",
    "    \"https://picsum.photos/id/4/200/300\", # remote urls\n",
    "    \"images/01picsum.jpg\" # local path\n",
    "]\n",
    "labels = [\"cat\", \"dog\"]\n",
    "widget = jp.annotate(examples=images,\n",
    "                     labels=labels,\n",
    "                     # tell jupino to display \"x\" or input as an image\n",
    "                     x_widget_factory=jp.widgets.x.image(width=200, height=200)\n",
    "                    )\n",
    "widget"
   ]
  },
  {
   "cell_type": "code",
   "execution_count": 18,
   "id": "020a7229",
   "metadata": {},
   "outputs": [
    {
     "data": {
      "text/plain": [
       "[Example(x='https://picsum.photos/id/1/200/300', y='cat'),\n",
       " Example(x='https://picsum.photos/id/2/200/300', y='dog'),\n",
       " Example(x='https://picsum.photos/id/3/200/300', y='dog')]"
      ]
     },
     "execution_count": 18,
     "metadata": {},
     "output_type": "execute_result"
    }
   ],
   "source": [
    "widget.session.annotated_examples"
   ]
  },
  {
   "cell_type": "markdown",
   "id": "a468f958",
   "metadata": {},
   "source": [
    "# Multi class classification"
   ]
  },
  {
   "cell_type": "code",
   "execution_count": 19,
   "id": "62c63d0f",
   "metadata": {},
   "outputs": [
    {
     "data": {
      "application/vnd.jupyter.widget-view+json": {
       "model_id": "50291e649816466ab64068f99d9f5eac",
       "version_major": 2,
       "version_minor": 0
      },
      "text/plain": [
       "VBox(children=(Output(), Output(), Output()))"
      ]
     },
     "metadata": {},
     "output_type": "display_data"
    }
   ],
   "source": [
    "texts = [\n",
    "    \"this is article about politics\",\n",
    "    \"this is about sports\",\n",
    "    \"this is not about politics\"\n",
    "]\n",
    "labels = [\"politics\", \"sports\", \"weather\"]\n",
    "widget = jp.annotate(examples=texts,\n",
    "                     labels=labels, \n",
    "                    # use radio button rather than buttons to display the labels\n",
    "                     labels_widget_factory=jp.widgets.labels.radio_button()\n",
    "                    )\n",
    "widget"
   ]
  },
  {
   "cell_type": "code",
   "execution_count": 20,
   "id": "7e6aa9f8",
   "metadata": {},
   "outputs": [
    {
     "data": {
      "text/plain": [
       "[Example(x='this is article about politics', y='politics'),\n",
       " Example(x='this is about sports', y='sports'),\n",
       " Example(x='this is not about politics', y='weather')]"
      ]
     },
     "execution_count": 20,
     "metadata": {},
     "output_type": "execute_result"
    }
   ],
   "source": [
    "widget.session.annotated_examples"
   ]
  },
  {
   "cell_type": "markdown",
   "id": "994aa412",
   "metadata": {},
   "source": [
    "# Multi label classification"
   ]
  },
  {
   "cell_type": "code",
   "execution_count": 21,
   "id": "1241b7f2",
   "metadata": {},
   "outputs": [
    {
     "data": {
      "application/vnd.jupyter.widget-view+json": {
       "model_id": "87d1c5f284e74a208596a655dc6013e5",
       "version_major": 2,
       "version_minor": 0
      },
      "text/plain": [
       "VBox(children=(Output(), Output(), Output()))"
      ]
     },
     "metadata": {},
     "output_type": "display_data"
    }
   ],
   "source": [
    "texts = [\n",
    "    \"this is article about politics\",\n",
    "    \"this is about sports\",\n",
    "    \"this is not about politics\"\n",
    "]\n",
    "labels = [\"politics\", \"sports\", \"weather\"]\n",
    "widget = jp.annotate(examples=texts,\n",
    "                     labels=labels, \n",
    "                    # use widget that supports selecting multiple items\n",
    "                     labels_widget_factory=jp.widgets.labels.select_multiple()\n",
    "                    )\n",
    "widget"
   ]
  },
  {
   "cell_type": "code",
   "execution_count": 22,
   "id": "60c9c1c0",
   "metadata": {},
   "outputs": [
    {
     "data": {
      "text/plain": [
       "[Example(x='this is article about politics', y=('politics', 'sports')),\n",
       " Example(x='this is about sports', y=('weather',))]"
      ]
     },
     "execution_count": 22,
     "metadata": {},
     "output_type": "execute_result"
    }
   ],
   "source": [
    "widget.session.annotated_examples"
   ]
  },
  {
   "cell_type": "markdown",
   "id": "070c63fc",
   "metadata": {},
   "source": [
    "# Multi input data"
   ]
  },
  {
   "cell_type": "code",
   "execution_count": 36,
   "id": "6524104d",
   "metadata": {},
   "outputs": [
    {
     "data": {
      "application/vnd.jupyter.widget-view+json": {
       "model_id": "25da91f5713f454fbfe64a26ef05a1d4",
       "version_major": 2,
       "version_minor": 0
      },
      "text/plain": [
       "VBox(children=(Output(), Output(), Output()))"
      ]
     },
     "metadata": {},
     "output_type": "display_data"
    }
   ],
   "source": [
    "images = [\n",
    "    (\"./images/01picsum.jpg\", \"This picture describes birds and ocean\"),\n",
    "    (\"./images/03picsum.jpg\", \"planets and space are shown in this image\"),\n",
    "]\n",
    "labels = [\"Caption matches\", \"Caption does not match\"]\n",
    "widget = jp.annotate(examples=images, labels=labels, \n",
    "                    # tell jupino that we have multiple inputs and they should be rendered differently\n",
    "                    x_widget_factory=jp.widgets.x.multiple(\n",
    "                        factories=[jp.widgets.x.image(), jp.widgets.x.html()],\n",
    "                        vertical_layout=True\n",
    "                    ),\n",
    "                    labels_widget_factory=jp.widgets.labels.radio_button()\n",
    "            )\n",
    "widget"
   ]
  },
  {
   "cell_type": "code",
   "execution_count": 37,
   "id": "5a53d4e0",
   "metadata": {},
   "outputs": [
    {
     "data": {
      "text/plain": [
       "[Example(x=('./images/01picsum.jpg', 'This picture describes birds and ocean'), y='Caption matches'),\n",
       " Example(x=('./images/03picsum.jpg', 'planets and space are shown in this image'), y='Caption does not match')]"
      ]
     },
     "execution_count": 37,
     "metadata": {},
     "output_type": "execute_result"
    }
   ],
   "source": [
    "widget.session.annotated_examples"
   ]
  },
  {
   "cell_type": "code",
   "execution_count": 26,
   "id": "c6ffe5bd",
   "metadata": {},
   "outputs": [
    {
     "data": {
      "application/vnd.jupyter.widget-view+json": {
       "model_id": "ce74374625eb49acbd28eca24e8f4d40",
       "version_major": 2,
       "version_minor": 0
      },
      "text/plain": [
       "VBox(children=(Output(), Output(), Output()))"
      ]
     },
     "metadata": {},
     "output_type": "display_data"
    }
   ],
   "source": [
    "images = [\n",
    "    (\"./images/01picsum.jpg\", \"./images/02picsum.jpg\"),\n",
    "    (\"./images/03picsum.jpg\", \"./images/04picsum.jpg\"),\n",
    "    (\"https://picsum.photos/200/300\", \"https://picsum.photos/200/300\") # works with remote images too!\n",
    "]\n",
    "labels = [\"Similar\", \"Not Similar\"]\n",
    "widget = jp.annotate(examples=images, labels=labels, \n",
    "            x_widget_factory=jp.widgets.x.multiple(factories=jp.widgets.x.image(), vertical_layout=False),\n",
    "            labels_widget_factory=jp.widgets.labels.radio_button()\n",
    "            )\n",
    "widget"
   ]
  },
  {
   "cell_type": "code",
   "execution_count": 27,
   "id": "230ac616",
   "metadata": {},
   "outputs": [
    {
     "data": {
      "text/plain": [
       "[Example(x=('./images/01picsum.jpg', './images/02picsum.jpg'), y='Similar'),\n",
       " Example(x=('./images/03picsum.jpg', './images/04picsum.jpg'), y='Not Similar')]"
      ]
     },
     "execution_count": 27,
     "metadata": {},
     "output_type": "execute_result"
    }
   ],
   "source": [
    "widget.session.annotated_examples"
   ]
  },
  {
   "cell_type": "markdown",
   "id": "c0ab658c",
   "metadata": {},
   "source": [
    "# Regression"
   ]
  },
  {
   "cell_type": "code",
   "execution_count": 39,
   "id": "7d5787ff",
   "metadata": {},
   "outputs": [
    {
     "data": {
      "application/vnd.jupyter.widget-view+json": {
       "model_id": "52ac3f1b7eec4a50be273263a43ec4cc",
       "version_major": 2,
       "version_minor": 0
      },
      "text/plain": [
       "VBox(children=(Output(), Output(), Output()))"
      ]
     },
     "metadata": {},
     "output_type": "display_data"
    }
   ],
   "source": [
    "import ipywidgets as w\n",
    "\n",
    "# create our own widget to display as \"labels\"\n",
    "def rating_widget(example: jp.Example, labels):\n",
    "    return w.IntSlider(min=0, max=5, value=example.y, description=\"rating\")\n",
    "\n",
    "texts = [\n",
    "    \"this movie sucks\",\n",
    "    \"this movie is good\",\n",
    "    \"i found this movie to be quite interesting\"\n",
    "]\n",
    "\n",
    "widget = jp.annotate(examples=texts, labels=None, labels_widget_factory=rating_widget)\n",
    "widget"
   ]
  },
  {
   "cell_type": "code",
   "execution_count": 40,
   "id": "11af3e1a",
   "metadata": {},
   "outputs": [
    {
     "data": {
      "text/plain": [
       "[Example(x='this movie sucks', y=0),\n",
       " Example(x='this movie is good', y=3),\n",
       " Example(x='i found this movie to be quite interesting', y=5)]"
      ]
     },
     "execution_count": 40,
     "metadata": {},
     "output_type": "execute_result"
    }
   ],
   "source": [
    "widget.session.annotated_examples"
   ]
  },
  {
   "cell_type": "markdown",
   "id": "49a4fa43",
   "metadata": {},
   "source": [
    "# Complex data\n",
    "Write your own widget factory to render complex data"
   ]
  },
  {
   "cell_type": "code",
   "execution_count": 41,
   "id": "0d0c6bdb",
   "metadata": {},
   "outputs": [
    {
     "data": {
      "application/vnd.jupyter.widget-view+json": {
       "model_id": "e0480411e858447f89e0836f6f0ea76b",
       "version_major": 2,
       "version_minor": 0
      },
      "text/plain": [
       "VBox(children=(Output(), Output(), Output()))"
      ]
     },
     "metadata": {},
     "output_type": "display_data"
    }
   ],
   "source": [
    "import ipywidgets as w\n",
    "from dataclasses import dataclass\n",
    "\n",
    "@dataclass\n",
    "class Product:\n",
    "    title: str\n",
    "    image_url: str\n",
    "        \n",
    "def product_widget(example: jp.Example):\n",
    "    html = f\"\"\"\n",
    "    <h2>{example.x.title}</h2>\n",
    "    <div>\n",
    "    <img src=\"{example.x.image_url}\"/>\n",
    "    </div>\n",
    "    \"\"\"\n",
    "    return w.HTML(value=html)\n",
    "\n",
    "products = [\n",
    "    Product(title=f\"This is product {i}\", image_url=f\"https://picsum.photos/id/{i}/200/300\")\n",
    "    for i in range(10)\n",
    "]\n",
    "labels = [\"phone\", \"freezer\", \"cycle\", \"dress\"]\n",
    "widget = jp.annotate(examples=products, labels=labels, x_widget_factory=product_widget)\n",
    "widget"
   ]
  },
  {
   "cell_type": "code",
   "execution_count": 43,
   "id": "e164b2e9",
   "metadata": {},
   "outputs": [
    {
     "data": {
      "text/plain": [
       "[Example(x=Product(title='This is product 0', image_url='https://picsum.photos/id/0/200/300'), y='phone'),\n",
       " Example(x=Product(title='This is product 1', image_url='https://picsum.photos/id/1/200/300'), y='phone'),\n",
       " Example(x=Product(title='This is product 2', image_url='https://picsum.photos/id/2/200/300'), y='phone'),\n",
       " Example(x=Product(title='This is product 3', image_url='https://picsum.photos/id/3/200/300'), y='freezer'),\n",
       " Example(x=Product(title='This is product 4', image_url='https://picsum.photos/id/4/200/300'), y='cycle')]"
      ]
     },
     "execution_count": 43,
     "metadata": {},
     "output_type": "execute_result"
    }
   ],
   "source": [
    "widget.session.annotated_examples"
   ]
  }
 ],
 "metadata": {
  "kernelspec": {
   "display_name": "Python 3 (ipykernel)",
   "language": "python",
   "name": "python3"
  },
  "language_info": {
   "codemirror_mode": {
    "name": "ipython",
    "version": 3
   },
   "file_extension": ".py",
   "mimetype": "text/x-python",
   "name": "python",
   "nbconvert_exporter": "python",
   "pygments_lexer": "ipython3",
   "version": "3.8.6"
  }
 },
 "nbformat": 4,
 "nbformat_minor": 5
}
